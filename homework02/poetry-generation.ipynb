{
  "nbformat": 4,
  "nbformat_minor": 0,
  "metadata": {
    "anaconda-cloud": {},
    "kernelspec": {
      "display_name": "Python 3",
      "language": "python",
      "name": "python3"
    },
    "language_info": {
      "codemirror_mode": {
        "name": "ipython",
        "version": 3
      },
      "file_extension": ".py",
      "mimetype": "text/x-python",
      "name": "python",
      "nbconvert_exporter": "python",
      "pygments_lexer": "ipython3",
      "version": "3.7.4"
    },
    "colab": {
      "name": "homework02_Poetry_generation.ipynb",
      "provenance": []
    }
  },
  "cells": [
    {
      "cell_type": "markdown",
      "metadata": {
        "id": "V6e7RWZdmrpg",
        "colab_type": "text"
      },
      "source": [
        "## Homework №2"
      ]
    },
    {
      "cell_type": "markdown",
      "metadata": {
        "id": "rKk0eGF6mrph",
        "colab_type": "text"
      },
      "source": [
        "### Almost Shakespeare\n",
        "\n",
        "Let's try to generate some Shakespeare poetry using RNNs. The sonnets file is available in the notebook directory.\n",
        "\n",
        "Text generation can be designed in several steps:\n",
        "    \n",
        "1. Data loading.\n",
        "2. Dictionary generation.\n",
        "3. Data preprocessing.\n",
        "4. Model (neural network) training.\n",
        "5. Text generation (model evaluation).\n"
      ]
    },
    {
      "cell_type": "markdown",
      "metadata": {
        "id": "T2tbUUXbmrpi",
        "colab_type": "text"
      },
      "source": [
        "### Data loading"
      ]
    },
    {
      "cell_type": "markdown",
      "metadata": {
        "id": "tjklolpymrpj",
        "colab_type": "text"
      },
      "source": [
        "Shakespeare sonnets are awailable at this [link](http://www.gutenberg.org/ebooks/1041?msg=welcome_stranger). In addition, they are stored in the same directory as this notebook (`sonnetes.txt`).\n",
        "\n",
        "Simple preprocessing is already done for you in the next cell: all technical info is dropped."
      ]
    },
    {
      "cell_type": "code",
      "metadata": {
        "id": "mwnqzYKCmrpk",
        "colab_type": "code",
        "colab": {}
      },
      "source": [
        "import string\n",
        "import torch\n",
        "import random\n",
        "import numpy as np\n",
        "from torch import nn\n",
        "import torch.nn.functional as F\n",
        "from random import sample\n",
        "import matplotlib.pyplot as plt\n",
        "from IPython.display import clear_output\n",
        "from torch.autograd import Variable"
      ],
      "execution_count": null,
      "outputs": []
    },
    {
      "cell_type": "code",
      "metadata": {
        "id": "ZfoVyvlumrpq",
        "colab_type": "code",
        "colab": {
          "base_uri": "https://localhost:8080/",
          "height": 204
        },
        "outputId": "4a8b22f5-2753-4dfe-94d1-c85aa08f1128"
      },
      "source": [
        "try:\n",
        "    with open('../../datasets/Shakespeare_sonnets/sonnets.txt', 'r') as iofile:\n",
        "        text = iofile.readlines()\n",
        "except FileNotFoundError:\n",
        "    !wget https://raw.githubusercontent.com/neychev/made_nlp_course/master/datasets/Shakespeare_sonnets/sonnets.txt -nc\n",
        "    with open('sonnets.txt', 'r') as iofile:\n",
        "        text = iofile.readlines()"
      ],
      "execution_count": null,
      "outputs": [
        {
          "output_type": "stream",
          "text": [
            "--2020-04-26 09:53:30--  https://raw.githubusercontent.com/neychev/made_nlp_course/master/datasets/Shakespeare_sonnets/sonnets.txt\n",
            "Resolving raw.githubusercontent.com (raw.githubusercontent.com)... 151.101.0.133, 151.101.64.133, 151.101.128.133, ...\n",
            "Connecting to raw.githubusercontent.com (raw.githubusercontent.com)|151.101.0.133|:443... connected.\n",
            "HTTP request sent, awaiting response... 200 OK\n",
            "Length: 119747 (117K) [text/plain]\n",
            "Saving to: ‘sonnets.txt’\n",
            "\n",
            "\rsonnets.txt           0%[                    ]       0  --.-KB/s               \rsonnets.txt         100%[===================>] 116.94K  --.-KB/s    in 0.01s   \n",
            "\n",
            "2020-04-26 09:53:30 (9.78 MB/s) - ‘sonnets.txt’ saved [119747/119747]\n",
            "\n"
          ],
          "name": "stdout"
        }
      ]
    },
    {
      "cell_type": "code",
      "metadata": {
        "id": "H-iLfBeBmrpu",
        "colab_type": "code",
        "colab": {}
      },
      "source": [
        "TEXT_START = 45\n",
        "TEXT_END = -368\n",
        "text = text[TEXT_START : TEXT_END]\n",
        "text = [x.lower() for x in text]\n",
        "assert len(text) == 2616"
      ],
      "execution_count": null,
      "outputs": []
    },
    {
      "cell_type": "code",
      "metadata": {
        "id": "9vj0M1dUtVX6",
        "colab_type": "code",
        "colab": {
          "base_uri": "https://localhost:8080/",
          "height": 357
        },
        "outputId": "6dc596b5-952b-46d7-9fd3-99df2e323d92"
      },
      "source": [
        "text[:20]"
      ],
      "execution_count": null,
      "outputs": [
        {
          "output_type": "execute_result",
          "data": {
            "text/plain": [
              "['  from fairest creatures we desire increase,\\n',\n",
              " \"  that thereby beauty's rose might never die,\\n\",\n",
              " '  but as the riper should by time decease,\\n',\n",
              " '  his tender heir might bear his memory:\\n',\n",
              " '  but thou, contracted to thine own bright eyes,\\n',\n",
              " \"  feed'st thy light's flame with self-substantial fuel,\\n\",\n",
              " '  making a famine where abundance lies,\\n',\n",
              " '  thy self thy foe, to thy sweet self too cruel:\\n',\n",
              " \"  thou that art now the world's fresh ornament,\\n\",\n",
              " '  and only herald to the gaudy spring,\\n',\n",
              " '  within thine own bud buriest thy content,\\n',\n",
              " \"  and tender churl mak'st waste in niggarding:\\n\",\n",
              " '    pity the world, or else this glutton be,\\n',\n",
              " \"    to eat the world's due, by the grave and thee.\\n\",\n",
              " '\\n',\n",
              " '  ii\\n',\n",
              " '\\n',\n",
              " '  when forty winters shall besiege thy brow,\\n',\n",
              " \"  and dig deep trenches in thy beauty's field,\\n\",\n",
              " \"  thy youth's proud livery so gazed on now,\\n\"]"
            ]
          },
          "metadata": {
            "tags": []
          },
          "execution_count": 4
        }
      ]
    },
    {
      "cell_type": "markdown",
      "metadata": {
        "id": "-Sj5xRn9mrpy",
        "colab_type": "text"
      },
      "source": [
        "In opposite to the in-class practice, this time we want to predict complex text. Let's reduce the complexity of the task and lowercase all the symbols.\n",
        "\n",
        "Now variable `text` is a list of strings. Join all the strings into one and lowercase it."
      ]
    },
    {
      "cell_type": "code",
      "metadata": {
        "id": "klhpXgmamrpz",
        "colab_type": "code",
        "colab": {
          "base_uri": "https://localhost:8080/",
          "height": 34
        },
        "outputId": "ff7d1a53-e47f-4dfe-9398-752c13477af8"
      },
      "source": [
        "# Join all the strings into one and lowercase it\n",
        "# Put result into variable text.\n",
        "text_2 = ''.join([x.lower() for x in text])\n",
        "\n",
        "assert len(text_2) == 100225, 'Are you sure you have concatenated all the strings?'\n",
        "assert not any([x in set(text_2) for x in string.ascii_uppercase]), 'Uppercase letters are present'\n",
        "print('OK!')"
      ],
      "execution_count": null,
      "outputs": [
        {
          "output_type": "stream",
          "text": [
            "OK!\n"
          ],
          "name": "stdout"
        }
      ]
    },
    {
      "cell_type": "markdown",
      "metadata": {
        "id": "4EMrKLArmrp4",
        "colab_type": "text"
      },
      "source": [
        "Put all the characters, that you've seen in the text, into variable `tokens`."
      ]
    },
    {
      "cell_type": "code",
      "metadata": {
        "id": "pOhen3_nmrp4",
        "colab_type": "code",
        "colab": {}
      },
      "source": [
        "tokens = sorted(set(text_2))"
      ],
      "execution_count": null,
      "outputs": []
    },
    {
      "cell_type": "markdown",
      "metadata": {
        "id": "yliuCU2kmrp9",
        "colab_type": "text"
      },
      "source": [
        "Create dictionary `token_to_idx = {<char>: <index>}` and dictionary `idx_to_token = {<index>: <char>}`"
      ]
    },
    {
      "cell_type": "code",
      "metadata": {
        "id": "KBynmX4Amrp-",
        "colab_type": "code",
        "colab": {}
      },
      "source": [
        "# dict <index>:<char>\n",
        "token_to_idx = {ch:idx for idx, ch in enumerate(tokens)}\n",
        "\n",
        "# dict <char>:<index>\n",
        "idx_to_token = {idx:ch for ch, idx in token_to_idx.items()}"
      ],
      "execution_count": null,
      "outputs": []
    },
    {
      "cell_type": "code",
      "metadata": {
        "id": "LIICsfl00nAL",
        "colab_type": "code",
        "colab": {}
      },
      "source": [
        "num_tokens = 38"
      ],
      "execution_count": null,
      "outputs": []
    },
    {
      "cell_type": "markdown",
      "metadata": {
        "id": "-4US_HClmrqC",
        "colab_type": "text"
      },
      "source": [
        "*Comment: in this task we have only 38 different tokens, so let's use one-hot encoding.*"
      ]
    },
    {
      "cell_type": "markdown",
      "metadata": {
        "id": "va-V3vXgmrqD",
        "colab_type": "text"
      },
      "source": [
        "### Building the model"
      ]
    },
    {
      "cell_type": "markdown",
      "metadata": {
        "id": "6LZASZYNmrqE",
        "colab_type": "text"
      },
      "source": [
        "Now we want to build and train recurrent neural net which would be able to something similar to Shakespeare's poetry.\n",
        "\n",
        "Let's use vanilla RNN, similar to the one created during the lesson."
      ]
    },
    {
      "cell_type": "code",
      "metadata": {
        "id": "IJBQTDjUy6CO",
        "colab_type": "code",
        "colab": {}
      },
      "source": [
        "def to_matrix(names, max_len=None, pad=token_to_idx[' '], dtype='int32', batch_first = True):\n",
        "    \"\"\"Casts a list of names into rnn-digestable matrix\"\"\"\n",
        "    \n",
        "    max_len = max_len or max(map(len, names))\n",
        "    names_ix = np.zeros([len(names), max_len], dtype) + pad\n",
        "\n",
        "    for i in range(len(names)):\n",
        "        line_ix = [token_to_idx[c] for c in names[i]]\n",
        "        line_ix = line_ix[:max_len]\n",
        "        names_ix[i, :len(line_ix)] = line_ix\n",
        "        \n",
        "    if not batch_first: # convert [batch, time] into [time, batch]\n",
        "        names_ix = np.transpose(names_ix)\n",
        "\n",
        "    return names_ix"
      ],
      "execution_count": null,
      "outputs": []
    },
    {
      "cell_type": "code",
      "metadata": {
        "id": "EZD4O8Ik9jVe",
        "colab_type": "code",
        "colab": {}
      },
      "source": [
        "def rnn_loop(char_rnn, batch_ix):\n",
        "    \"\"\"\n",
        "    Computes log P(next_character) for all time-steps in names_ix\n",
        "    :param names_ix: an int32 matrix of shape [batch, time], output of to_matrix(names)\n",
        "    \"\"\"\n",
        "    batch_size, max_length = batch_ix.size()\n",
        "    hid_state = char_rnn.initial_state()\n",
        "    logprobs = []\n",
        "\n",
        "    for x_t in batch_ix.transpose(0,1):\n",
        "        logp_next, hid_state  = char_rnn(x_t, hid_state)  # <-- here we call your one-step code\n",
        "        logprobs.append(logp_next)\n",
        "        \n",
        "    return torch.stack(logprobs, dim=1)"
      ],
      "execution_count": null,
      "outputs": []
    },
    {
      "cell_type": "code",
      "metadata": {
        "id": "OU_OwZsIhHJA",
        "colab_type": "code",
        "colab": {}
      },
      "source": [
        "class CharRNNModel(nn.Module):\n",
        "    def __init__(self, num_tokens=num_tokens, embedding_size=32, rnn_num_units=128):\n",
        "        super(self.__class__, self).__init__()\n",
        "        self.num_units = rnn_num_units\n",
        "        self.embedding = nn.Embedding(num_tokens, embedding_size)\n",
        "        self.rnn = nn.RNN(embedding_size, rnn_num_units, batch_first=True)\n",
        "        self.rnn_to_logits = nn.Linear(rnn_num_units, num_tokens)\n",
        "    \n",
        "    def forward(self, x, h_state=None):\n",
        "        x_emb = self.embedding(x.view(1, -1))\n",
        "        out, h_next = self.rnn(x_emb.view(1, 1, -1), h_state)\n",
        "        logits = self.rnn_to_logits(out.view(1, -1))\n",
        "        return logits, h_next\n",
        "    \n",
        "    def initial_state(self):\n",
        "        \"\"\" return rnn state before it processes first input (aka h0) \"\"\"\n",
        "        return Variable(torch.zeros(1, 1, self.num_units))"
      ],
      "execution_count": null,
      "outputs": []
    },
    {
      "cell_type": "code",
      "metadata": {
        "id": "e6EqqP_s-8Lk",
        "colab_type": "code",
        "colab": {}
      },
      "source": [
        "def random_chunk(chunk_len=200):\n",
        "    start_index = random.randint(0, len(text_2) - chunk_len)\n",
        "    end_index = start_index + chunk_len + 1\n",
        "    return text_2[start_index:end_index]"
      ],
      "execution_count": null,
      "outputs": []
    },
    {
      "cell_type": "markdown",
      "metadata": {
        "id": "xgH1K2DemrqI",
        "colab_type": "text"
      },
      "source": [
        "Plot the loss function (axis X: number of epochs, axis Y: loss function)."
      ]
    },
    {
      "cell_type": "code",
      "metadata": {
        "id": "6OE253vrGtO1",
        "colab_type": "code",
        "colab": {}
      },
      "source": [
        "def train(model, opt, criterion, chunk_len=200, epochs=2000, num_tokens=num_tokens):\n",
        "    history = []\n",
        "    for i in range(epochs):\n",
        "        batch_ix = to_matrix([random_chunk(chunk_len)])\n",
        "        batch_ix = torch.tensor(batch_ix, dtype=torch.int64)\n",
        "        logp_seq = rnn_loop(model, batch_ix)\n",
        "        # compute loss\n",
        "        \n",
        "        loss = criterion(logp_seq[:, :-1].contiguous().view(-1, num_tokens),\n",
        "                         batch_ix[:, 1:].contiguous().view(-1))\n",
        "        \n",
        "        \n",
        "        # train with backprop\n",
        "        loss.backward()\n",
        "        opt.step()\n",
        "        opt.zero_grad()\n",
        "        \n",
        "        history.append(loss.data.numpy())\n",
        "        if (i+1)%100==0:\n",
        "            clear_output(True)\n",
        "            plt.plot(history,label='loss')\n",
        "            plt.legend()\n",
        "            plt.show()\n",
        "\n",
        "    assert np.mean(history[:10]) > np.mean(history[-10:]), \"RNN didn't converge.\""
      ],
      "execution_count": null,
      "outputs": []
    },
    {
      "cell_type": "code",
      "metadata": {
        "id": "SJEkyroUG24t",
        "colab_type": "code",
        "colab": {
          "base_uri": "https://localhost:8080/",
          "height": 265
        },
        "outputId": "f2ee1246-0403-4ab6-904c-050b77c52247"
      },
      "source": [
        "char_rnn = CharRNNModel()\n",
        "opt = torch.optim.Adam(char_rnn.parameters())\n",
        "criterion = nn.CrossEntropyLoss()\n",
        "train(char_rnn, opt, criterion)"
      ],
      "execution_count": null,
      "outputs": [
        {
          "output_type": "display_data",
          "data": {
            "image/png": "[encoded data removed]",
            "text/plain": [
              "<Figure size 432x288 with 1 Axes>"
            ]
          },
          "metadata": {
            "tags": [],
            "needs_background": "light"
          }
        }
      ]
    },
    {
      "cell_type": "code",
      "metadata": {
        "id": "Ote-sQN05oB7",
        "colab_type": "code",
        "colab": {}
      },
      "source": [
        "def generate_sample(char_rnn, seed_phrase=' hello', max_length=MAX_LENGTH, temperature=1.0):\n",
        "    '''\n",
        "    The function generates text given a phrase of length at least SEQ_LENGTH.\n",
        "    :param seed_phrase: prefix characters. The RNN is asked to continue the phrase\n",
        "    :param max_length: maximum output length, including seed_phrase\n",
        "    :param temperature: coefficient for sampling.  higher temperature produces more chaotic outputs, \n",
        "        smaller temperature converges to the single most likely output.\n",
        "        \n",
        "    Be careful with the model output. This model waits logits (not probabilities/log-probabilities)\n",
        "    of the next symbol.\n",
        "    '''\n",
        "    \n",
        "    x_sequence = [token_to_idx[token] for token in seed_phrase]\n",
        "    x_sequence = torch.tensor(x_sequence, dtype=torch.int64)\n",
        "    hid_state = char_rnn.initial_state()\n",
        "    \n",
        "    #feed the seed phrase, if any\n",
        "    for i in range(len(seed_phrase) - 1):\n",
        "        out, hid_state = char_rnn(x_sequence[i], hid_state)\n",
        "    \n",
        "    #start generating\n",
        "    for _ in range(max_length - len(seed_phrase)):\n",
        "        out, hid_state = char_rnn(x_sequence[-1], hid_state)\n",
        "        # Be really careful here with the model output\n",
        "        p_next = F.softmax(out / temperature, dim=-1).data.numpy()[0]\n",
        "        p_next = p_next.flatten()\n",
        "        \n",
        "        # sample next token and push it back into x_sequence\n",
        "        next_ix = np.random.choice(len(tokens), p=p_next)\n",
        "        next_ix = torch.tensor([next_ix], dtype=torch.int64)\n",
        "        x_sequence = torch.cat([x_sequence, next_ix], dim=0)\n",
        "        # print(x_sequence)\n",
        "    \n",
        "    return ''.join([tokens[ix] for ix in x_sequence.data.numpy()])"
      ],
      "execution_count": null,
      "outputs": []
    },
    {
      "cell_type": "code",
      "metadata": {
        "id": "fgC06P07mrqR",
        "colab_type": "code",
        "colab": {
          "base_uri": "https://localhost:8080/",
          "height": 170
        },
        "outputId": "cfabd679-70ff-4c70-8e67-5da1e79d27fb"
      },
      "source": [
        "# examples of generated text.\n",
        "print(generate_sample(char_rnn, seed_phrase=\"th\", max_length=500, temperature=0.8))"
      ],
      "execution_count": null,
      "outputs": [
        {
          "output_type": "stream",
          "text": [
            "the ade this the not shen sey\n",
            "  to me of beting,\n",
            "  the graing\n",
            "  bakes h mould thim cich vanes for on that sulser has dederst that to me dat reser,\n",
            "  i goond hat i gingter, then nom or fell wile of thou alle sirghed tryse ket eld ard thy things of her to grom sigluy arie,\n",
            "  moming ir heagut arustind shat thas prowhath wrised asser dour nom thy and hit my meing\n",
            "  thy my as heartiog thy dound that,\n",
            "  with noulls thy seepre agrtest thou woll wayes beith seince sumer in of to mean menonger to thing\n",
            " \n"
          ],
          "name": "stdout"
        }
      ]
    },
    {
      "cell_type": "markdown",
      "metadata": {
        "id": "8e1VSr6kmrqV",
        "colab_type": "text"
      },
      "source": [
        "### More poetic model\n",
        "\n",
        "Let's use LSTM instead of vanilla RNN and compare the results."
      ]
    },
    {
      "cell_type": "code",
      "metadata": {
        "id": "-UPJkycJMntl",
        "colab_type": "code",
        "colab": {}
      },
      "source": [
        "class CharLSTMModel(nn.Module):\n",
        "    def __init__(self, num_tokens=num_tokens, embedding_size=32, rnn_num_units=128):\n",
        "        super(self.__class__, self).__init__()\n",
        "        self.num_units = rnn_num_units\n",
        "        self.embedding = nn.Embedding(num_tokens, embedding_size)\n",
        "        self.lstm = nn.LSTM(input_size=embedding_size, hidden_size=rnn_num_units, batch_first=True)\n",
        "        self.hid_to_logits = nn.Linear(rnn_num_units, num_tokens)\n",
        "    \n",
        "    def forward(self, x, h_state):\n",
        "        x_emb = self.embedding(x.view(1, -1))\n",
        "        h_seq, h_next = self.lstm(x_emb.view(1, 1, -1), h_state)\n",
        "        logits = self.hid_to_logits(h_seq.view(1, -1))\n",
        "        return logits, h_next\n",
        "    \n",
        "    def initial_state(self):\n",
        "        \"\"\" return rnn state before it processes first input (aka h0) \"\"\"\n",
        "        return (Variable(torch.zeros(1, 1, self.num_units)), Variable(torch.zeros(1, 1, self.num_units)))"
      ],
      "execution_count": null,
      "outputs": []
    },
    {
      "cell_type": "markdown",
      "metadata": {
        "id": "ZnzF5G0AmrqW",
        "colab_type": "text"
      },
      "source": [
        "Plot the loss function of the number of epochs. Does the final loss become better?"
      ]
    },
    {
      "cell_type": "code",
      "metadata": {
        "id": "nPGK4xngmrqW",
        "colab_type": "code",
        "colab": {
          "base_uri": "https://localhost:8080/",
          "height": 265
        },
        "outputId": "275351ce-e712-45d7-ee60-021e264e30b4"
      },
      "source": [
        "char_lstm = CharLSTMModel()\n",
        "opt = torch.optim.Adam(char_lstm.parameters())\n",
        "criterion = nn.CrossEntropyLoss()\n",
        "train(char_lstm, opt, criterion, chunk_len=500, epochs=2000)"
      ],
      "execution_count": null,
      "outputs": [
        {
          "output_type": "display_data",
          "data": {
            "image/png": "[encoded data removed]",
            "text/plain": [
              "<Figure size 432x288 with 1 Axes>"
            ]
          },
          "metadata": {
            "tags": [],
            "needs_background": "light"
          }
        }
      ]
    },
    {
      "cell_type": "markdown",
      "metadata": {
        "id": "FafwNDoomrqZ",
        "colab_type": "text"
      },
      "source": [
        "Generate text using the trained net with different `temperature` parameter: `[0.1, 0.2, 0.5, 1.0, 2.0]`.\n",
        "\n",
        "Evaluate the results visually, try to interpret them."
      ]
    },
    {
      "cell_type": "code",
      "metadata": {
        "id": "UgdFWSIYmrqa",
        "colab_type": "code",
        "colab": {
          "base_uri": "https://localhost:8080/",
          "height": 1000
        },
        "outputId": "283235dd-bc55-48cc-dfe9-b9a0db79fa0c"
      },
      "source": [
        "# examples of generated text.\n",
        "temperatures = [0.1, 0.2, 0.5, 1.0, 2.0]\n",
        "for t in temperatures:\n",
        "    print()\n",
        "    print('Temperature:', t)\n",
        "    print(generate_sample(char_lstm, seed_phrase=\" \", max_length=500, temperature=t))"
      ],
      "execution_count": null,
      "outputs": [
        {
          "output_type": "stream",
          "text": [
            "\n",
            "Temperature: 0.1\n",
            " the see thee thee thee thee,\n",
            "    and the see the with the see the see the will thee thee thee thee thee thee thee thee thee thee thee thee thee thee thee thee thee thee thee thee thee thee thee thee thee thee thee thee thee thee see,\n",
            "    and the will the prest the see the see the see with thee thee thee thee,\n",
            "  the with the see the with the see the see thee thee thee thee thee thee thee she love,\n",
            "  the with the will the see thee the will thee thee thee thee thee thee thee strange.\n",
            "    the will \n",
            "\n",
            "Temperature: 0.2\n",
            " then thee thee thee,\n",
            "  the be the can the love the strange the weet thee dear be thee,\n",
            "    the will the will the be thee thee thee the with thee me doth thee,\n",
            "  the prown thee should the sum the see the seet thee thee,\n",
            "  the will the will the see the were the seet thee,\n",
            "  the so the will the weet the self thee thee thee thee,\n",
            "  and they the well and the see the will the seem\n",
            "  the see the wilt the weet the dear the beauty see,\n",
            "    the with the weet the will the see the see thee thee thee streng\n",
            "\n",
            "Temperature: 0.5\n",
            " the ill me say.\n",
            "  that he thee all in many renders bear chering,\n",
            "  that be the ore my purse with thee to thee gank\n",
            "  thou she with the of the beauty seef,\n",
            "    and the self make to to be i the true the be this grain'st of thee,\n",
            "  then thee thou leave of hould the with that that the fart have,\n",
            "    then given thee to my sumpound to me to thee says be to be live:\n",
            "    the give of sweet ver could with the wart,\n",
            "  that the see at to dear, not the then thy sornt\n",
            "  the prove when my tome me thee thee i \n",
            "\n",
            "Temperature: 1.0\n",
            " fupriongs daict:\n",
            "     rither me to let, to tiop, lfilves of shor.\n",
            "\n",
            "  lii\n",
            "\n",
            "  oan what eive, when thoy i me deterged tinge.\n",
            "\n",
            "  i ir preoun all breave vackt sight,\n",
            "  this beauty to wrepths be fatch fail thy sweet astet my lied,\n",
            "  and her i bostared feath lortess forther levese\n",
            "  and noe ho new-briff-bur plore of doth pove\n",
            "    art  mowe, far these thy un that clued,-- ho ends nor dall.\n",
            "\n",
            "  cxv\n",
            "\n",
            "  a fould to pare remour, you an ii uptrem'd.\n",
            "\n",
            "  miv\n",
            "  heir,\n",
            "  whence doth her there you will shalw, who c\n",
            "\n",
            "Temperature: 2.0\n",
            " nathre,\n",
            "  frveing seeclent, mishtty tibjdc acaven'!\n",
            "  thugh hoararaf, upcare op wyver:\n",
            "  to gounts'engne; weruar; im,eb'd:\n",
            "  igp tuy,, mere unhemetion,; and hawr'bbw cetn, kik'liqey---ntont,\n",
            " axld lorauwh mee'n rircmeatul habtate: ape-uith').o\n",
            "    o foy angce.\n",
            "  tibs'd, knithl- nodis;iir'st sge.\n",
            "  runo vivviesss words-otes'vy down eh'.\n",
            "  myrevi\n",
            "  dleacey ghouly ne, apqki\n",
            ". 'ghilvy leeqesies not haves,\n",
            "  fomame vfout, pwailss ntrighach;t awend remfion'--'ike,\n",
            "  ats, intc vinerthern-til tan, inun\n"
          ],
          "name": "stdout"
        }
      ]
    },
    {
      "cell_type": "markdown",
      "metadata": {
        "id": "_t3i6dNVeF_V",
        "colab_type": "text"
      },
      "source": [
        "**Interpretation of results:**\n",
        "- The temperature shows how much of randomness in choice we do when generating the sequences of characters. The bigger the value, the more random characters we get next.\n",
        "- I didn't see any difference in loss results of RNN and LSTM models (even if I increase chunk_size for LSTM model, which potentially could lead to improvement)"
      ]
    },
    {
      "cell_type": "markdown",
      "metadata": {
        "id": "G7pxPqnlmrqd",
        "colab_type": "text"
      },
      "source": [
        "### Saving and loading models"
      ]
    },
    {
      "cell_type": "markdown",
      "metadata": {
        "id": "sexc8UEvmrqe",
        "colab_type": "text"
      },
      "source": [
        "Save the model to the disk, then load it and generate text. Examples are available [here](https://pytorch.org/tutorials/beginner/saving_loading_models.html])."
      ]
    },
    {
      "cell_type": "code",
      "metadata": {
        "id": "x9zIG44Fmrqf",
        "colab_type": "code",
        "colab": {
          "base_uri": "https://localhost:8080/",
          "height": 255
        },
        "outputId": "45a537d2-0b27-41db-e916-a4785dbb6628"
      },
      "source": [
        "import warnings\n",
        "warnings.filterwarnings(\"ignore\")\n",
        "\n",
        "# Saving and loading code here\n",
        "filename = \"poem_lstm_model\"\n",
        "torch.save(char_lstm, filename)\n",
        "model = torch.load(filename)\n",
        "model.eval()\n",
        "print(generate_sample(model, seed_phrase=\" \", max_length=500, temperature=1))"
      ],
      "execution_count": null,
      "outputs": [
        {
          "output_type": "stream",
          "text": [
            " gilme.\n",
            "  and thoe in im heauths wilt wintes gart:\n",
            "  of they pov'd in giot foosh my self of a tome wrie-.\n",
            "    fur thee that most knazing gentsed of awige's to mone,\n",
            "  hif doth from thou beacttry dighine deete;\n",
            "  which, fiti belose thee brows your so te!\n",
            "    ar mantieg to groud ascart love, in toke asture,\n",
            "\n",
            "  cxxl\n",
            "\n",
            "  did wast howe thees to nad ny but digtus aton me man eis.\n",
            "    my dever materits and extht plear must;\n",
            "  i love, they where fors me, you thy true carn.\n",
            "  reth o! the wines love specze\n"
          ],
          "name": "stdout"
        }
      ]
    },
    {
      "cell_type": "markdown",
      "metadata": {
        "id": "qel2VldDmrqi",
        "colab_type": "text"
      },
      "source": [
        "### References\n",
        "1. <a href='http://karpathy.github.io/2015/05/21/rnn-effectiveness/'> Andrew Karpathy blog post about RNN. </a> \n",
        "There are several examples of genration: Shakespeare texts, Latex formulas, Linux Sourse Code and children names.\n",
        "2. <a href='https://github.com/karpathy/char-rnn'> Repo with char-rnn code </a>\n",
        "3. Cool repo with PyTorch examples: [link](https://github.com/spro/practical-pytorch)"
      ]
    }
  ]
}